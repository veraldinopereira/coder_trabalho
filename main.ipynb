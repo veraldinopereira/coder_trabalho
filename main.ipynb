{
 "cells": [
  {
   "cell_type": "code",
   "execution_count": 1,
   "metadata": {},
   "outputs": [],
   "source": [
    "import requests \n",
    "import pandas as pd \n",
    "from plyer import notification\n",
    "from datetime import datetime"
   ]
  },
  {
   "cell_type": "code",
   "execution_count": 4,
   "metadata": {},
   "outputs": [],
   "source": [
    "url = 'https://brasilapi.com.br/api/banks/v1'\n",
    "etapa = 'Buscar Dados'\n",
    "resposta = requests.get(url).json()\n",
    "resposta_code = requests.get(url).status_code"
   ]
  },
  {
   "cell_type": "code",
   "execution_count": 5,
   "metadata": {},
   "outputs": [],
   "source": [
    "def alerta(codigo, etapa):\n",
    "    data_atual = datetime.now().strftime('%d/%m/%y %H:%M:%S')\n",
    "\n",
    "    msg = ''\n",
    "    \n",
    "    if resposta_code == 200:\n",
    "        msg = 'Sucesso'\n",
    "    else:\n",
    "        msg = f'Falha Codigo {resposta_code}'\n",
    "        \n",
    "    mensagem = f'{msg} no carregamento na {url} na etapa {etapa}\\n{data_atual}'\n",
    "    \n",
    "    if codigo != 200:\n",
    "        codigo = 'ATENÇÃO: Conexao com Erro'\n",
    "    else:\n",
    "        codigo = 'Conectado com sucesso' \n",
    "    \n",
    "    notification.notify(\n",
    "        title=codigo,\n",
    "        message=mensagem,\n",
    "        timeout=10\n",
    "    )\n",
    "\n",
    "alerta(resposta_code, etapa)"
   ]
  },
  {
   "cell_type": "code",
   "execution_count": 6,
   "metadata": {},
   "outputs": [],
   "source": [
    "df = pd.DataFrame(resposta)"
   ]
  },
  {
   "cell_type": "code",
   "execution_count": 7,
   "metadata": {},
   "outputs": [
    {
     "data": {
      "text/html": [
       "<div>\n",
       "<style scoped>\n",
       "    .dataframe tbody tr th:only-of-type {\n",
       "        vertical-align: middle;\n",
       "    }\n",
       "\n",
       "    .dataframe tbody tr th {\n",
       "        vertical-align: top;\n",
       "    }\n",
       "\n",
       "    .dataframe thead th {\n",
       "        text-align: right;\n",
       "    }\n",
       "</style>\n",
       "<table border=\"1\" class=\"dataframe\">\n",
       "  <thead>\n",
       "    <tr style=\"text-align: right;\">\n",
       "      <th></th>\n",
       "      <th>ispb</th>\n",
       "      <th>name</th>\n",
       "      <th>code</th>\n",
       "      <th>fullName</th>\n",
       "    </tr>\n",
       "  </thead>\n",
       "  <tbody>\n",
       "    <tr>\n",
       "      <th>0</th>\n",
       "      <td>00000000</td>\n",
       "      <td>BCO DO BRASIL S.A.</td>\n",
       "      <td>1.0</td>\n",
       "      <td>Banco do Brasil S.A.</td>\n",
       "    </tr>\n",
       "    <tr>\n",
       "      <th>1</th>\n",
       "      <td>00000208</td>\n",
       "      <td>BRB - BCO DE BRASILIA S.A.</td>\n",
       "      <td>70.0</td>\n",
       "      <td>BRB - BANCO DE BRASILIA S.A.</td>\n",
       "    </tr>\n",
       "    <tr>\n",
       "      <th>2</th>\n",
       "      <td>00038121</td>\n",
       "      <td>Selic</td>\n",
       "      <td>NaN</td>\n",
       "      <td>Banco Central do Brasil - Selic</td>\n",
       "    </tr>\n",
       "    <tr>\n",
       "      <th>3</th>\n",
       "      <td>00038166</td>\n",
       "      <td>Bacen</td>\n",
       "      <td>NaN</td>\n",
       "      <td>Banco Central do Brasil</td>\n",
       "    </tr>\n",
       "    <tr>\n",
       "      <th>4</th>\n",
       "      <td>00122327</td>\n",
       "      <td>SANTINVEST S.A. - CFI</td>\n",
       "      <td>539.0</td>\n",
       "      <td>SANTINVEST S.A. - CREDITO, FINANCIAMENTO E INV...</td>\n",
       "    </tr>\n",
       "  </tbody>\n",
       "</table>\n",
       "</div>"
      ],
      "text/plain": [
       "       ispb                        name   code  \\\n",
       "0  00000000          BCO DO BRASIL S.A.    1.0   \n",
       "1  00000208  BRB - BCO DE BRASILIA S.A.   70.0   \n",
       "2  00038121                       Selic    NaN   \n",
       "3  00038166                       Bacen    NaN   \n",
       "4  00122327       SANTINVEST S.A. - CFI  539.0   \n",
       "\n",
       "                                            fullName  \n",
       "0                               Banco do Brasil S.A.  \n",
       "1                       BRB - BANCO DE BRASILIA S.A.  \n",
       "2                    Banco Central do Brasil - Selic  \n",
       "3                            Banco Central do Brasil  \n",
       "4  SANTINVEST S.A. - CREDITO, FINANCIAMENTO E INV...  "
      ]
     },
     "execution_count": 7,
     "metadata": {},
     "output_type": "execute_result"
    }
   ],
   "source": [
    "df.head()"
   ]
  },
  {
   "cell_type": "code",
   "execution_count": 8,
   "metadata": {},
   "outputs": [
    {
     "data": {
      "text/html": [
       "<div>\n",
       "<style scoped>\n",
       "    .dataframe tbody tr th:only-of-type {\n",
       "        vertical-align: middle;\n",
       "    }\n",
       "\n",
       "    .dataframe tbody tr th {\n",
       "        vertical-align: top;\n",
       "    }\n",
       "\n",
       "    .dataframe thead th {\n",
       "        text-align: right;\n",
       "    }\n",
       "</style>\n",
       "<table border=\"1\" class=\"dataframe\">\n",
       "  <thead>\n",
       "    <tr style=\"text-align: right;\">\n",
       "      <th></th>\n",
       "      <th>ispb</th>\n",
       "      <th>name</th>\n",
       "      <th>code</th>\n",
       "      <th>fullName</th>\n",
       "    </tr>\n",
       "  </thead>\n",
       "  <tbody>\n",
       "    <tr>\n",
       "      <th>355</th>\n",
       "      <td>92894922</td>\n",
       "      <td>BANCO ORIGINAL</td>\n",
       "      <td>212.0</td>\n",
       "      <td>Banco Original S.A.</td>\n",
       "    </tr>\n",
       "  </tbody>\n",
       "</table>\n",
       "</div>"
      ],
      "text/plain": [
       "         ispb            name   code             fullName\n",
       "355  92894922  BANCO ORIGINAL  212.0  Banco Original S.A."
      ]
     },
     "execution_count": 8,
     "metadata": {},
     "output_type": "execute_result"
    }
   ],
   "source": [
    "df2 = df.loc[df['name']=='BANCO ORIGINAL']\n",
    "df2"
   ]
  },
  {
   "cell_type": "code",
   "execution_count": 73,
   "metadata": {},
   "outputs": [
    {
     "data": {
      "text/html": [
       "<div>\n",
       "<style scoped>\n",
       "    .dataframe tbody tr th:only-of-type {\n",
       "        vertical-align: middle;\n",
       "    }\n",
       "\n",
       "    .dataframe tbody tr th {\n",
       "        vertical-align: top;\n",
       "    }\n",
       "\n",
       "    .dataframe thead th {\n",
       "        text-align: right;\n",
       "    }\n",
       "</style>\n",
       "<table border=\"1\" class=\"dataframe\">\n",
       "  <thead>\n",
       "    <tr style=\"text-align: right;\">\n",
       "      <th></th>\n",
       "      <th>ispb</th>\n",
       "      <th>name</th>\n",
       "      <th>code</th>\n",
       "      <th>fullName</th>\n",
       "    </tr>\n",
       "  </thead>\n",
       "  <tbody>\n",
       "    <tr>\n",
       "      <th>354</th>\n",
       "      <td>92875780</td>\n",
       "      <td>WARREN CVMC LTDA</td>\n",
       "      <td>371.0</td>\n",
       "      <td>WARREN CORRETORA DE VALORES MOBILIÁRIOS E CÂMB...</td>\n",
       "    </tr>\n",
       "  </tbody>\n",
       "</table>\n",
       "</div>"
      ],
      "text/plain": [
       "         ispb              name   code  \\\n",
       "354  92875780  WARREN CVMC LTDA  371.0   \n",
       "\n",
       "                                              fullName  \n",
       "354  WARREN CORRETORA DE VALORES MOBILIÁRIOS E CÂMB...  "
      ]
     },
     "execution_count": 73,
     "metadata": {},
     "output_type": "execute_result"
    }
   ],
   "source": [
    "df2 = df.loc[df['ispb']=='92875780']\n",
    "df2"
   ]
  }
 ],
 "metadata": {
  "kernelspec": {
   "display_name": "Python 3",
   "language": "python",
   "name": "python3"
  },
  "language_info": {
   "codemirror_mode": {
    "name": "ipython",
    "version": 3
   },
   "file_extension": ".py",
   "mimetype": "text/x-python",
   "name": "python",
   "nbconvert_exporter": "python",
   "pygments_lexer": "ipython3",
   "version": "3.11.5"
  }
 },
 "nbformat": 4,
 "nbformat_minor": 2
}
